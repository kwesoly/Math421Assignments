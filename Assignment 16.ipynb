{
 "cells": [
  {
   "cell_type": "markdown",
   "metadata": {},
   "source": [
    "## Question 1"
   ]
  },
  {
   "cell_type": "code",
   "execution_count": 1,
   "metadata": {},
   "outputs": [
    {
     "data": {
      "image/png": "[encoded data removed]",
      "text/plain": [
       "Plot with title \"Histogram of cs\""
      ]
     },
     "metadata": {},
     "output_type": "display_data",
     "source": "R display func"
    }
   ],
   "source": [
    "a1 = rnorm(1000, 0, 1)\n",
    "a2 = rnorm(1000, 0, 1)\n",
    "a3 = rnorm(1000, 0, 1)\n",
    "a4 = rnorm(1000, 0, 1)\n",
    "a5 = rnorm(1000, 0, 1)\n",
    "cs = a1^2 + a2^2 + a3^2 + a4^2 +a5^2\n",
    "hist(cs)"
   ]
  },
  {
   "cell_type": "markdown",
   "metadata": {},
   "source": [
    "## Question 2"
   ]
  },
  {
   "cell_type": "code",
   "execution_count": 2,
   "metadata": {},
   "outputs": [
    {
     "data": {
      "text/html": [
       "0.0948"
      ],
      "text/latex": [
       "0.0948"
      ],
      "text/markdown": [
       "0.0948"
      ],
      "text/plain": [
       "[1] 0.0948"
      ]
     },
     "metadata": {},
     "output_type": "display_data"
    }
   ],
   "source": [
    "a = sample(1:6, 10000, replace = TRUE)\n",
    "b = sample(1:6, 10000, replace = TRUE)\n",
    "c = sample(1:6, 10000, replace = TRUE)\n",
    "sum(a > (b + c))/10000"
   ]
  },
  {
   "cell_type": "markdown",
   "metadata": {},
   "source": [
    "## Question 3"
   ]
  },
  {
   "cell_type": "code",
   "execution_count": 3,
   "metadata": {},
   "outputs": [
    {
     "data": {
      "text/html": [
       "0.56"
      ],
      "text/latex": [
       "0.56"
      ],
      "text/markdown": [
       "0.56"
      ],
      "text/plain": [
       "[1] 0.56"
      ]
     },
     "metadata": {},
     "output_type": "display_data"
    }
   ],
   "source": [
    "M = c()\n",
    "for(i in 1:1000)\n",
    "{\n",
    "u1 = runif(1,0,1)\n",
    "u2 = runif(1,0,1)\n",
    "u3 = runif(1,0,1)\n",
    "M = c(max(u1, u2, u3), M)\n",
    "}\n",
    "sum(M>.75)/1000"
   ]
  },
  {
   "cell_type": "markdown",
   "metadata": {},
   "source": [
    "## Question 4"
   ]
  },
  {
   "cell_type": "code",
   "execution_count": 4,
   "metadata": {},
   "outputs": [
    {
     "data": {
      "text/html": [
       "18.96"
      ],
      "text/latex": [
       "18.96"
      ],
      "text/markdown": [
       "18.96"
      ],
      "text/plain": [
       "[1] 18.96"
      ]
     },
     "metadata": {},
     "output_type": "display_data"
    }
   ],
   "source": [
    "x = runif(1000, -2, 2)\n",
    "y = runif(1000, -3, 3)\n",
    "(sum(1 > (x^2/4)+(y^2/9))/1000) *24"
   ]
  },
  {
   "cell_type": "markdown",
   "metadata": {},
   "source": [
    "## Question 5"
   ]
  },
  {
   "cell_type": "code",
   "execution_count": 5,
   "metadata": {},
   "outputs": [
    {
     "data": {
      "text/html": [
       "1.351639702849"
      ],
      "text/latex": [
       "1.351639702849"
      ],
      "text/markdown": [
       "1.351639702849"
      ],
      "text/plain": [
       "[1] 1.35164"
      ]
     },
     "metadata": {},
     "output_type": "display_data"
    }
   ],
   "source": [
    "x = runif(1000, 0, 1)\n",
    "y = runif(1000, 0, 1+sin(1))\n",
    "(sum(y < (1+x*sin(x)))/1000) *(1+sin(1))"
   ]
  },
  {
   "cell_type": "markdown",
   "metadata": {},
   "source": [
    "## Question 6"
   ]
  },
  {
   "cell_type": "code",
   "execution_count": 6,
   "metadata": {},
   "outputs": [
    {
     "data": {
      "text/plain": [
       "\n",
       "Call:\n",
       "lm(formula = y ~ x)\n",
       "\n",
       "Coefficients:\n",
       "(Intercept)            x  \n",
       "      2.990        2.009  \n"
      ]
     },
     "metadata": {},
     "output_type": "display_data"
    }
   ],
   "source": [
    "e = rnorm(1000, 0, 1)\n",
    "x = runif(1000, -1, 1)\n",
    "y = (2*x) + 3 + e\n",
    "lm(y~x)"
   ]
  },
  {
   "cell_type": "markdown",
   "metadata": {},
   "source": [
    "## Question 7"
   ]
  },
  {
   "cell_type": "code",
   "execution_count": 7,
   "metadata": {},
   "outputs": [
    {
     "name": "stdout",
     "output_type": "stream",
     "text": [
      "\n",
      "Call:\n",
      "lm(formula = y ~ x)\n",
      "\n",
      "Coefficients:\n",
      "(Intercept)            x  \n",
      "      3.001        1.997  \n",
      "\n",
      "\n",
      "Call:\n",
      "lm(formula = y ~ x)\n",
      "\n",
      "Coefficients:\n",
      "(Intercept)            x  \n",
      "      2.988        2.011  \n",
      "\n",
      "\n",
      "Call:\n",
      "lm(formula = y ~ x)\n",
      "\n",
      "Coefficients:\n",
      "(Intercept)            x  \n",
      "      2.918        1.911  \n",
      "\n",
      "\n",
      "Call:\n",
      "lm(formula = y ~ x)\n",
      "\n",
      "Coefficients:\n",
      "(Intercept)            x  \n",
      "      2.786        1.471  \n",
      "\n",
      "\n",
      "Call:\n",
      "lm(formula = y ~ x)\n",
      "\n",
      "Coefficients:\n",
      "(Intercept)            x  \n",
      "      2.971        2.091  \n",
      "\n",
      "\n",
      "Call:\n",
      "lm(formula = y ~ x)\n",
      "\n",
      "Coefficients:\n",
      "(Intercept)            x  \n",
      "      3.658        2.865  \n",
      "\n",
      "\n",
      "Call:\n",
      "lm(formula = y ~ x)\n",
      "\n",
      "Coefficients:\n",
      "(Intercept)            x  \n",
      "     4.1125       0.7478  \n",
      "\n",
      "\n",
      "Call:\n",
      "lm(formula = y ~ x)\n",
      "\n",
      "Coefficients:\n",
      "(Intercept)            x  \n",
      "      5.667       10.611  \n",
      "\n"
     ]
    }
   ],
   "source": [
    "s = c(.1, 1, 2, 5, 10, 20, 50, 100)\n",
    "for (i in s)\n",
    "{\n",
    "  e = rnorm(1000, 0, i)\n",
    "x = runif(1000, -1, 1)\n",
    "y = (2*x) + 3 + e\n",
    "print(lm(y~x))\n",
    "}"
   ]
  },
  {
   "cell_type": "markdown",
   "metadata": {},
   "source": [
    "### As the standard deviation of epsilon increases the accuracy decreases. However, if more simulations were run then the epsilon value becomes irrelevant."
   ]
  },
  {
   "cell_type": "code",
   "execution_count": null,
   "metadata": {},
   "outputs": [],
   "source": []
  }
 ],
 "metadata": {
  "kernelspec": {
   "display_name": "R",
   "language": "R",
   "name": "ir"
  },
  "language_info": {
   "codemirror_mode": "r",
   "file_extension": ".r",
   "mimetype": "text/x-r-source",
   "name": "R",
   "pygments_lexer": "r",
   "version": "3.5.1"
  }
 },
 "nbformat": 4,
 "nbformat_minor": 2
}
