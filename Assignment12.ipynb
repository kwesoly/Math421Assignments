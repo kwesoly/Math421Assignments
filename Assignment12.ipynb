{
 "cells": [
  {
   "cell_type": "code",
   "execution_count": 1,
   "metadata": {},
   "outputs": [
    {
     "name": "stderr",
     "output_type": "stream",
     "text": [
      "Loading required package: lattice\n",
      "Loading required package: ggplot2\n",
      "Loading required package: Matrix\n",
      "Loading required package: foreach\n",
      "Loaded glmnet 2.0-16\n",
      "\n"
     ]
    }
   ],
   "source": [
    "library(readr)\n",
    "library(caret)\n",
    "library(ranger)\n",
    "library(glmnet)"
   ]
  },
  {
   "cell_type": "markdown",
   "metadata": {},
   "source": [
    "# Titanic\n",
    "\n",
    "## Question 1"
   ]
  },
  {
   "cell_type": "code",
   "execution_count": 2,
   "metadata": {},
   "outputs": [],
   "source": [
    "titanic = read.csv(\"C:/Users/student/Documents/train.csv\")\n",
    "titanic$PassengerId = NULL\n",
    "titanic$Ticket = NULL\n",
    "titanic$Name = NULL\n",
    "titanic$Cabin = NULL\n",
    "for(i in 1:ncol(titanic)) \n",
    "    {\n",
    "    missval <- sum(is.na(titanic[i]))\n",
    "    if(missval > 0)\n",
    "      {\n",
    "      if(is.numeric(titanic[[i]]) == FALSE) \n",
    "        {\n",
    "        levels=unique(titanic[,i])\n",
    "        titanic[,i][is.na(titanic[,i])]=levels[which.max(tabulate(match(titanic[,i], x = levels)))]\n",
    "      }\n",
    "      else\n",
    "      {\n",
    "        titanic[[i]][is.na(titanic[[i]])] <- mean(titanic[[i]], na.rm = TRUE)\n",
    "      }\n",
    "    }\n",
    "}\n",
    "titanic$Survived = factor(titanic$Survived)"
   ]
  },
  {
   "cell_type": "markdown",
   "metadata": {},
   "source": [
    "## Question 2"
   ]
  },
  {
   "cell_type": "code",
   "execution_count": 3,
   "metadata": {},
   "outputs": [
    {
     "name": "stdout",
     "output_type": "stream",
     "text": [
      "+ Fold1: mtry=2, splitrule=gini, min.node.size=1 \n",
      "- Fold1: mtry=2, splitrule=gini, min.node.size=1 \n",
      "+ Fold1: mtry=2, splitrule=gini, min.node.size=2 \n",
      "- Fold1: mtry=2, splitrule=gini, min.node.size=2 \n",
      "+ Fold1: mtry=2, splitrule=gini, min.node.size=3 \n",
      "- Fold1: mtry=2, splitrule=gini, min.node.size=3 \n",
      "+ Fold2: mtry=2, splitrule=gini, min.node.size=1 \n",
      "- Fold2: mtry=2, splitrule=gini, min.node.size=1 \n",
      "+ Fold2: mtry=2, splitrule=gini, min.node.size=2 \n",
      "- Fold2: mtry=2, splitrule=gini, min.node.size=2 \n",
      "+ Fold2: mtry=2, splitrule=gini, min.node.size=3 \n",
      "- Fold2: mtry=2, splitrule=gini, min.node.size=3 \n",
      "+ Fold3: mtry=2, splitrule=gini, min.node.size=1 \n",
      "- Fold3: mtry=2, splitrule=gini, min.node.size=1 \n",
      "+ Fold3: mtry=2, splitrule=gini, min.node.size=2 \n",
      "- Fold3: mtry=2, splitrule=gini, min.node.size=2 \n",
      "+ Fold3: mtry=2, splitrule=gini, min.node.size=3 \n",
      "- Fold3: mtry=2, splitrule=gini, min.node.size=3 \n",
      "+ Fold4: mtry=2, splitrule=gini, min.node.size=1 \n",
      "- Fold4: mtry=2, splitrule=gini, min.node.size=1 \n",
      "+ Fold4: mtry=2, splitrule=gini, min.node.size=2 \n",
      "- Fold4: mtry=2, splitrule=gini, min.node.size=2 \n",
      "+ Fold4: mtry=2, splitrule=gini, min.node.size=3 \n",
      "- Fold4: mtry=2, splitrule=gini, min.node.size=3 \n",
      "+ Fold5: mtry=2, splitrule=gini, min.node.size=1 \n",
      "- Fold5: mtry=2, splitrule=gini, min.node.size=1 \n",
      "+ Fold5: mtry=2, splitrule=gini, min.node.size=2 \n",
      "- Fold5: mtry=2, splitrule=gini, min.node.size=2 \n",
      "+ Fold5: mtry=2, splitrule=gini, min.node.size=3 \n",
      "- Fold5: mtry=2, splitrule=gini, min.node.size=3 \n",
      "+ Fold6: mtry=2, splitrule=gini, min.node.size=1 \n",
      "- Fold6: mtry=2, splitrule=gini, min.node.size=1 \n",
      "+ Fold6: mtry=2, splitrule=gini, min.node.size=2 \n",
      "- Fold6: mtry=2, splitrule=gini, min.node.size=2 \n",
      "+ Fold6: mtry=2, splitrule=gini, min.node.size=3 \n",
      "- Fold6: mtry=2, splitrule=gini, min.node.size=3 \n",
      "+ Fold7: mtry=2, splitrule=gini, min.node.size=1 \n",
      "- Fold7: mtry=2, splitrule=gini, min.node.size=1 \n",
      "+ Fold7: mtry=2, splitrule=gini, min.node.size=2 \n",
      "- Fold7: mtry=2, splitrule=gini, min.node.size=2 \n",
      "+ Fold7: mtry=2, splitrule=gini, min.node.size=3 \n",
      "- Fold7: mtry=2, splitrule=gini, min.node.size=3 \n",
      "Aggregating results\n",
      "Selecting tuning parameters\n",
      "Fitting mtry = 2, splitrule = gini, min.node.size = 3 on full training set\n"
     ]
    }
   ],
   "source": [
    "Grid7Titanic = expand.grid(mtry = 2, splitrule = c(\"gini\"), min.node.size = c(1:3))\n",
    "model7Titanic = train(Survived~., titanic, method = \"ranger\", trControl = trainControl(method = \"cv\", number = 7, verboseIter = TRUE), tuneGrid = Grid7Titanic)"
   ]
  },
  {
   "cell_type": "markdown",
   "metadata": {},
   "source": [
    "## Question 3"
   ]
  },
  {
   "cell_type": "code",
   "execution_count": 4,
   "metadata": {},
   "outputs": [
    {
     "name": "stdout",
     "output_type": "stream",
     "text": [
      "+ Fold01: mtry=2, splitrule=gini, min.node.size=1 \n",
      "- Fold01: mtry=2, splitrule=gini, min.node.size=1 \n",
      "+ Fold01: mtry=2, splitrule=gini, min.node.size=2 \n",
      "- Fold01: mtry=2, splitrule=gini, min.node.size=2 \n",
      "+ Fold01: mtry=2, splitrule=gini, min.node.size=3 \n",
      "- Fold01: mtry=2, splitrule=gini, min.node.size=3 \n",
      "+ Fold02: mtry=2, splitrule=gini, min.node.size=1 \n",
      "- Fold02: mtry=2, splitrule=gini, min.node.size=1 \n",
      "+ Fold02: mtry=2, splitrule=gini, min.node.size=2 \n",
      "- Fold02: mtry=2, splitrule=gini, min.node.size=2 \n",
      "+ Fold02: mtry=2, splitrule=gini, min.node.size=3 \n",
      "- Fold02: mtry=2, splitrule=gini, min.node.size=3 \n",
      "+ Fold03: mtry=2, splitrule=gini, min.node.size=1 \n",
      "- Fold03: mtry=2, splitrule=gini, min.node.size=1 \n",
      "+ Fold03: mtry=2, splitrule=gini, min.node.size=2 \n",
      "- Fold03: mtry=2, splitrule=gini, min.node.size=2 \n",
      "+ Fold03: mtry=2, splitrule=gini, min.node.size=3 \n",
      "- Fold03: mtry=2, splitrule=gini, min.node.size=3 \n",
      "+ Fold04: mtry=2, splitrule=gini, min.node.size=1 \n",
      "- Fold04: mtry=2, splitrule=gini, min.node.size=1 \n",
      "+ Fold04: mtry=2, splitrule=gini, min.node.size=2 \n",
      "- Fold04: mtry=2, splitrule=gini, min.node.size=2 \n",
      "+ Fold04: mtry=2, splitrule=gini, min.node.size=3 \n",
      "- Fold04: mtry=2, splitrule=gini, min.node.size=3 \n",
      "+ Fold05: mtry=2, splitrule=gini, min.node.size=1 \n",
      "- Fold05: mtry=2, splitrule=gini, min.node.size=1 \n",
      "+ Fold05: mtry=2, splitrule=gini, min.node.size=2 \n",
      "- Fold05: mtry=2, splitrule=gini, min.node.size=2 \n",
      "+ Fold05: mtry=2, splitrule=gini, min.node.size=3 \n",
      "- Fold05: mtry=2, splitrule=gini, min.node.size=3 \n",
      "+ Fold06: mtry=2, splitrule=gini, min.node.size=1 \n",
      "- Fold06: mtry=2, splitrule=gini, min.node.size=1 \n",
      "+ Fold06: mtry=2, splitrule=gini, min.node.size=2 \n",
      "- Fold06: mtry=2, splitrule=gini, min.node.size=2 \n",
      "+ Fold06: mtry=2, splitrule=gini, min.node.size=3 \n",
      "- Fold06: mtry=2, splitrule=gini, min.node.size=3 \n",
      "+ Fold07: mtry=2, splitrule=gini, min.node.size=1 \n",
      "- Fold07: mtry=2, splitrule=gini, min.node.size=1 \n",
      "+ Fold07: mtry=2, splitrule=gini, min.node.size=2 \n",
      "- Fold07: mtry=2, splitrule=gini, min.node.size=2 \n",
      "+ Fold07: mtry=2, splitrule=gini, min.node.size=3 \n",
      "- Fold07: mtry=2, splitrule=gini, min.node.size=3 \n",
      "+ Fold08: mtry=2, splitrule=gini, min.node.size=1 \n",
      "- Fold08: mtry=2, splitrule=gini, min.node.size=1 \n",
      "+ Fold08: mtry=2, splitrule=gini, min.node.size=2 \n",
      "- Fold08: mtry=2, splitrule=gini, min.node.size=2 \n",
      "+ Fold08: mtry=2, splitrule=gini, min.node.size=3 \n",
      "- Fold08: mtry=2, splitrule=gini, min.node.size=3 \n",
      "+ Fold09: mtry=2, splitrule=gini, min.node.size=1 \n",
      "- Fold09: mtry=2, splitrule=gini, min.node.size=1 \n",
      "+ Fold09: mtry=2, splitrule=gini, min.node.size=2 \n",
      "- Fold09: mtry=2, splitrule=gini, min.node.size=2 \n",
      "+ Fold09: mtry=2, splitrule=gini, min.node.size=3 \n",
      "- Fold09: mtry=2, splitrule=gini, min.node.size=3 \n",
      "+ Fold10: mtry=2, splitrule=gini, min.node.size=1 \n",
      "- Fold10: mtry=2, splitrule=gini, min.node.size=1 \n",
      "+ Fold10: mtry=2, splitrule=gini, min.node.size=2 \n",
      "- Fold10: mtry=2, splitrule=gini, min.node.size=2 \n",
      "+ Fold10: mtry=2, splitrule=gini, min.node.size=3 \n",
      "- Fold10: mtry=2, splitrule=gini, min.node.size=3 \n",
      "Aggregating results\n",
      "Selecting tuning parameters\n",
      "Fitting mtry = 2, splitrule = gini, min.node.size = 3 on full training set\n"
     ]
    },
    {
     "data": {},
     "metadata": {},
     "output_type": "display_data"
    },
    {
     "data": {
      "text/plain": [
       "Random Forest \n",
       "\n",
       "891 samples\n",
       "  7 predictor\n",
       "  2 classes: '0', '1' \n",
       "\n",
       "No pre-processing\n",
       "Resampling: Cross-Validated (10 fold) \n",
       "Summary of sample sizes: 802, 802, 802, 802, 802, 801, ... \n",
       "Resampling results across tuning parameters:\n",
       "\n",
       "  min.node.size  Accuracy   Kappa    \n",
       "  1              0.8203206  0.6023644\n",
       "  2              0.8203581  0.6019434\n",
       "  3              0.8237291  0.6095222\n",
       "\n",
       "Tuning parameter 'mtry' was held constant at a value of 2\n",
       "Tuning\n",
       " parameter 'splitrule' was held constant at a value of gini\n",
       "Accuracy was used to select the optimal model using the largest value.\n",
       "The final values used for the model were mtry = 2, splitrule = gini\n",
       " and min.node.size = 3."
      ]
     },
     "metadata": {},
     "output_type": "display_data"
    },
    {
     "data": {
      "image/png": "[encoded data removed]",
      "text/plain": [
       "plot without title"
      ]
     },
     "metadata": {},
     "output_type": "display_data",
     "source": "R display func"
    }
   ],
   "source": [
    "Grid10Titanic = expand.grid(mtry = 2, splitrule = c(\"gini\"), min.node.size = c(1:3))\n",
    "model10Titanic = train(Survived~., titanic, method = \"ranger\", trControl = trainControl(method = \"cv\", number = 10, verboseIter = TRUE), tuneGrid = Grid10Titanic)\n",
    "plot(model10Titanic)\n",
    "model10Titanic"
   ]
  },
  {
   "cell_type": "markdown",
   "metadata": {},
   "source": [
    "## Question 4"
   ]
  },
  {
   "cell_type": "code",
   "execution_count": 5,
   "metadata": {},
   "outputs": [],
   "source": [
    "#mtry = 2, splitrule = \"gini\", min.mode.size = 1 to 3"
   ]
  },
  {
   "cell_type": "markdown",
   "metadata": {},
   "source": [
    "## Question 5"
   ]
  },
  {
   "cell_type": "code",
   "execution_count": 6,
   "metadata": {},
   "outputs": [
    {
     "data": {},
     "metadata": {},
     "output_type": "display_data"
    },
    {
     "data": {
      "image/png": "[encoded data removed]",
      "text/plain": [
       "plot without title"
      ]
     },
     "metadata": {},
     "output_type": "display_data",
     "source": "R display func"
    }
   ],
   "source": [
    "plot(model7Titanic)"
   ]
  },
  {
   "cell_type": "markdown",
   "metadata": {},
   "source": [
    "## Question 6"
   ]
  },
  {
   "cell_type": "code",
   "execution_count": 7,
   "metadata": {},
   "outputs": [],
   "source": [
    "myGridmax1 = expand.grid(mtry = c(1:(ncol(titanic)-1)), splitrule = c(\"gini\", \"extratrees\"), min.node.size = c(1:5))\n",
    "modelmax1 = train(Survived~., titanic, method = \"ranger\", trControl = trainControl(method = \"cv\", number = 7, verboseIter = FALSE), tuneGrid = myGridmax1)"
   ]
  },
  {
   "cell_type": "markdown",
   "metadata": {},
   "source": [
    "## Question 7"
   ]
  },
  {
   "cell_type": "code",
   "execution_count": 8,
   "metadata": {},
   "outputs": [
    {
     "data": {
      "text/plain": [
       "Random Forest \n",
       "\n",
       "891 samples\n",
       "  7 predictor\n",
       "  2 classes: '0', '1' \n",
       "\n",
       "No pre-processing\n",
       "Resampling: Cross-Validated (7 fold) \n",
       "Summary of sample sizes: 763, 764, 765, 764, 764, 763, ... \n",
       "Resampling results across tuning parameters:\n",
       "\n",
       "  mtry  splitrule   min.node.size  Accuracy   Kappa    \n",
       "  1     gini        1              0.7810875  0.4988571\n",
       "  1     gini        2              0.7789261  0.4935210\n",
       "  1     gini        3              0.7822391  0.5023712\n",
       "  1     gini        4              0.7867651  0.5133806\n",
       "  1     gini        5              0.7900781  0.5218340\n",
       "  1     extratrees  1              0.7788558  0.4918018\n",
       "  1     extratrees  2              0.7811320  0.4962742\n",
       "  1     extratrees  3              0.7867478  0.5138046\n",
       "  1     extratrees  4              0.7833288  0.5022364\n",
       "  1     extratrees  5              0.7755077  0.4816699\n",
       "  2     gini        1              0.8271640  0.6180524\n",
       "  2     gini        2              0.8260215  0.6147243\n",
       "  2     gini        3              0.8238248  0.6101872\n",
       "  2     gini        4              0.8271640  0.6184430\n",
       "  2     gini        5              0.8282889  0.6202348\n",
       "  2     extratrees  1              0.8148345  0.5865019\n",
       "  2     extratrees  2              0.8114952  0.5784402\n",
       "  2     extratrees  3              0.8092278  0.5748490\n",
       "  2     extratrees  4              0.8136921  0.5838763\n",
       "  2     extratrees  5              0.8114600  0.5799494\n",
       "  3     gini        1              0.8317254  0.6343839\n",
       "  3     gini        2              0.8317254  0.6339341\n",
       "  3     gini        3              0.8261010  0.6213550\n",
       "  3     gini        4              0.8328415  0.6365786\n",
       "  3     gini        5              0.8316989  0.6328212\n",
       "  3     extratrees  1              0.8249055  0.6125308\n",
       "  3     extratrees  2              0.8215043  0.6039581\n",
       "  3     extratrees  3              0.8226646  0.6070909\n",
       "  3     extratrees  4              0.8192988  0.5993999\n",
       "  3     extratrees  5              0.8159241  0.5920626\n",
       "  4     gini        1              0.8306007  0.6351058\n",
       "  4     gini        2              0.8306181  0.6347233\n",
       "  4     gini        3              0.8294933  0.6320803\n",
       "  4     gini        4              0.8294846  0.6315257\n",
       "  4     gini        5              0.8283772  0.6291013\n",
       "  4     extratrees  1              0.8327710  0.6331195\n",
       "  4     extratrees  2              0.8316460  0.6312801\n",
       "  4     extratrees  3              0.8260835  0.6187640\n",
       "  4     extratrees  4              0.8260568  0.6191370\n",
       "  4     extratrees  5              0.8260569  0.6179116\n",
       "  5     gini        1              0.8283423  0.6315200\n",
       "  5     gini        2              0.8283687  0.6315269\n",
       "  5     gini        3              0.8295113  0.6338429\n",
       "  5     gini        4              0.8306273  0.6360019\n",
       "  5     gini        5              0.8328593  0.6396455\n",
       "  5     extratrees  1              0.8294313  0.6319540\n",
       "  5     extratrees  2              0.8305830  0.6334876\n",
       "  5     extratrees  3              0.8395290  0.6523805\n",
       "  5     extratrees  4              0.8305651  0.6324019\n",
       "  5     extratrees  5              0.8271904  0.6254233\n",
       "  6     gini        1              0.8249943  0.6261990\n",
       "  6     gini        2              0.8205123  0.6170188\n",
       "  6     gini        3              0.8261102  0.6279138\n",
       "  6     gini        4              0.8306010  0.6372315\n",
       "  6     gini        5              0.8306096  0.6356847\n",
       "  6     extratrees  1              0.8316813  0.6377406\n",
       "  6     extratrees  2              0.8272170  0.6281363\n",
       "  6     extratrees  3              0.8305474  0.6350310\n",
       "  6     extratrees  4              0.8305739  0.6347965\n",
       "  6     extratrees  5              0.8327883  0.6381759\n",
       "  7     gini        1              0.8171024  0.6096679\n",
       "  7     gini        2              0.8215932  0.6201253\n",
       "  7     gini        3              0.8216195  0.6193193\n",
       "  7     gini        4              0.8283334  0.6328505\n",
       "  7     gini        5              0.8306185  0.6356322\n",
       "  7     extratrees  1              0.8193341  0.6140894\n",
       "  7     extratrees  2              0.8193695  0.6139769\n",
       "  7     extratrees  3              0.8350648  0.6456225\n",
       "  7     extratrees  4              0.8271992  0.6280621\n",
       "  7     extratrees  5              0.8271992  0.6277229\n",
       "\n",
       "Accuracy was used to select the optimal model using the largest value.\n",
       "The final values used for the model were mtry = 5, splitrule = extratrees\n",
       " and min.node.size = 3."
      ]
     },
     "metadata": {},
     "output_type": "display_data"
    },
    {
     "data": {},
     "metadata": {},
     "output_type": "display_data"
    },
    {
     "data": {
      "image/png": "[encoded data removed]",
      "text/plain": [
       "plot without title"
      ]
     },
     "metadata": {},
     "output_type": "display_data",
     "source": "R display func"
    }
   ],
   "source": [
    "modelmax1\n",
    "plot(modelmax1)"
   ]
  },
  {
   "cell_type": "markdown",
   "metadata": {},
   "source": [
    "## Question 8"
   ]
  },
  {
   "cell_type": "code",
   "execution_count": 9,
   "metadata": {},
   "outputs": [
    {
     "data": {
      "text/html": [
       "TRUE"
      ],
      "text/latex": [
       "TRUE"
      ],
      "text/markdown": [
       "TRUE"
      ],
      "text/plain": [
       "[1] TRUE"
      ]
     },
     "metadata": {},
     "output_type": "display_data"
    },
    {
     "data": {
      "text/html": [
       "0.808085512748406"
      ],
      "text/latex": [
       "0.808085512748406"
      ],
      "text/markdown": [
       "0.808085512748406"
      ],
      "text/plain": [
       "[1] 0.8080855"
      ]
     },
     "metadata": {},
     "output_type": "display_data"
    },
    {
     "data": {
      "text/html": [
       "0.795443301893424"
      ],
      "text/latex": [
       "0.795443301893424"
      ],
      "text/markdown": [
       "0.795443301893424"
      ],
      "text/plain": [
       "[1] 0.7954433"
      ]
     },
     "metadata": {},
     "output_type": "display_data"
    }
   ],
   "source": [
    "Gridglm1 = expand.grid(alpha = 0:1, lambda = seq(0.0001, 0.1, length = 10))\n",
    "Control1 = trainControl(method = \"cv\", number = 7)\n",
    "glmdef1 = train(Survived~., titanic, method = \"glmnet\")\n",
    "glmtuned1 = train(Survived~., titanic, method =\"glmnet\",tuneGrid = Gridglm1, trControl = Control1)\n",
    "max(glmtuned1$results$Accuracy) > max(glmdef1$results$Accuracy)\n",
    "max(glmtuned1$results$Accuracy)\n",
    "max(glmdef1$results$Accuracy)"
   ]
  },
  {
   "cell_type": "markdown",
   "metadata": {},
   "source": [
    "# Adult\n",
    "\n",
    "## Question 1"
   ]
  },
  {
   "cell_type": "code",
   "execution_count": 10,
   "metadata": {},
   "outputs": [],
   "source": [
    "ad = read.csv(\"C:/Users/student/Desktop/Fall 2018/R Class/Datasets/adult.csv\", header=FALSE, na.strings = c(\" ?\", \"NA\", \".\"))\n",
    "names(ad) = c(\"Age\", \"WorkingClass\", \"FinalWeight\", \"Education\", \"Ed\", \"MaritalStatus\", \"Occupation\", \"Relationship\", \"Race\", \"Sex\", \"Gains\", \"Losses\", \"AvgHrsWeek\", \"Country\", \"target\")\n",
    "for(i in 1:ncol(ad)) \n",
    "    {\n",
    "    ad[ad ==\" ?\"]= NA  \n",
    "    missval <- sum(is.na(ad[i]))\n",
    "    if(missval > 0)\n",
    "      {\n",
    "      if(is.numeric(ad[[i]]) == FALSE) \n",
    "        {\n",
    "        levels=unique(ad[,i])\n",
    "        ad[,i][is.na(ad[,i])]=levels[which.max(tabulate(match(ad[,i], x = levels)))]\n",
    "      }\n",
    "      else\n",
    "      {\n",
    "        ad <- preProcess(ad, method='medianImpute')\n",
    "      }\n",
    "    }\n",
    "}\n",
    "levels(ad$Country) = c(\"A\", \"N\", \"A\", \"S\", \"I\", \"I\", \"S\", \"S\", \"E\", \"E\", \"E\",\"E\", \"S\", \"I\", \"E\", \"S\", \"A\", \"E\", \"A\", \"A\", \"A\", \"E\", \"E\", \"I\", \"A\", \"A\", \"N\", \"S\", \"I\", \"S\", \"A\", \"E\", \"E\", \"I\", \"E\", \"I\", \"A\", \"A\", \"I\", \"N\", \"A\", \"E\")\n",
    "levels(ad$Education) = c(\"HS\", \"HS\", \"HS\", \"ES\", \"ES\", \"ES\", \"HS\", \"A\", \"A\", \"U\", \"G\", \"HS\", \"G\", \"ES\", \"U\", \"A\")\n",
    "levels(ad$Occupation) = c(\"A\", \"A\", \"A\", \"B\", \"B\", \"B\", \"C\", \"C\", \"C\", \"D\", \"D\", \"D\", \"E\", \"E\")"
   ]
  },
  {
   "cell_type": "markdown",
   "metadata": {},
   "source": [
    "## Question 2"
   ]
  },
  {
   "cell_type": "code",
   "execution_count": 11,
   "metadata": {},
   "outputs": [
    {
     "name": "stdout",
     "output_type": "stream",
     "text": [
      "+ Fold1: mtry=2, splitrule=gini, min.node.size=1 \n",
      "- Fold1: mtry=2, splitrule=gini, min.node.size=1 \n",
      "+ Fold1: mtry=2, splitrule=gini, min.node.size=2 \n",
      "- Fold1: mtry=2, splitrule=gini, min.node.size=2 \n",
      "+ Fold1: mtry=2, splitrule=gini, min.node.size=3 \n",
      "- Fold1: mtry=2, splitrule=gini, min.node.size=3 \n",
      "+ Fold2: mtry=2, splitrule=gini, min.node.size=1 \n",
      "- Fold2: mtry=2, splitrule=gini, min.node.size=1 \n",
      "+ Fold2: mtry=2, splitrule=gini, min.node.size=2 \n",
      "- Fold2: mtry=2, splitrule=gini, min.node.size=2 \n",
      "+ Fold2: mtry=2, splitrule=gini, min.node.size=3 \n",
      "- Fold2: mtry=2, splitrule=gini, min.node.size=3 \n",
      "+ Fold3: mtry=2, splitrule=gini, min.node.size=1 \n",
      "- Fold3: mtry=2, splitrule=gini, min.node.size=1 \n",
      "+ Fold3: mtry=2, splitrule=gini, min.node.size=2 \n",
      "- Fold3: mtry=2, splitrule=gini, min.node.size=2 \n",
      "+ Fold3: mtry=2, splitrule=gini, min.node.size=3 \n",
      "- Fold3: mtry=2, splitrule=gini, min.node.size=3 \n",
      "+ Fold4: mtry=2, splitrule=gini, min.node.size=1 \n",
      "- Fold4: mtry=2, splitrule=gini, min.node.size=1 \n",
      "+ Fold4: mtry=2, splitrule=gini, min.node.size=2 \n",
      "- Fold4: mtry=2, splitrule=gini, min.node.size=2 \n",
      "+ Fold4: mtry=2, splitrule=gini, min.node.size=3 \n",
      "- Fold4: mtry=2, splitrule=gini, min.node.size=3 \n",
      "+ Fold5: mtry=2, splitrule=gini, min.node.size=1 \n",
      "- Fold5: mtry=2, splitrule=gini, min.node.size=1 \n",
      "+ Fold5: mtry=2, splitrule=gini, min.node.size=2 \n",
      "- Fold5: mtry=2, splitrule=gini, min.node.size=2 \n",
      "+ Fold5: mtry=2, splitrule=gini, min.node.size=3 \n",
      "- Fold5: mtry=2, splitrule=gini, min.node.size=3 \n",
      "+ Fold6: mtry=2, splitrule=gini, min.node.size=1 \n",
      "- Fold6: mtry=2, splitrule=gini, min.node.size=1 \n",
      "+ Fold6: mtry=2, splitrule=gini, min.node.size=2 \n",
      "- Fold6: mtry=2, splitrule=gini, min.node.size=2 \n",
      "+ Fold6: mtry=2, splitrule=gini, min.node.size=3 \n",
      "- Fold6: mtry=2, splitrule=gini, min.node.size=3 \n",
      "+ Fold7: mtry=2, splitrule=gini, min.node.size=1 \n",
      "- Fold7: mtry=2, splitrule=gini, min.node.size=1 \n",
      "+ Fold7: mtry=2, splitrule=gini, min.node.size=2 \n",
      "- Fold7: mtry=2, splitrule=gini, min.node.size=2 \n",
      "+ Fold7: mtry=2, splitrule=gini, min.node.size=3 \n",
      "- Fold7: mtry=2, splitrule=gini, min.node.size=3 \n",
      "Aggregating results\n",
      "Selecting tuning parameters\n",
      "Fitting mtry = 2, splitrule = gini, min.node.size = 2 on full training set\n"
     ]
    },
    {
     "data": {
      "text/plain": [
       "Random Forest \n",
       "\n",
       "32561 samples\n",
       "   14 predictor\n",
       "    2 classes: ' <=50K', ' >50K' \n",
       "\n",
       "No pre-processing\n",
       "Resampling: Cross-Validated (7 fold) \n",
       "Summary of sample sizes: 27909, 27910, 27908, 27909, 27910, 27910, ... \n",
       "Resampling results across tuning parameters:\n",
       "\n",
       "  min.node.size  Accuracy   Kappa    \n",
       "  1              0.8360305  0.4681915\n",
       "  2              0.8361840  0.4686920\n",
       "  3              0.8360921  0.4679834\n",
       "\n",
       "Tuning parameter 'mtry' was held constant at a value of 2\n",
       "Tuning\n",
       " parameter 'splitrule' was held constant at a value of gini\n",
       "Accuracy was used to select the optimal model using the largest value.\n",
       "The final values used for the model were mtry = 2, splitrule = gini\n",
       " and min.node.size = 2."
      ]
     },
     "metadata": {},
     "output_type": "display_data"
    }
   ],
   "source": [
    "Grid7ad = expand.grid(mtry = 2, splitrule = c(\"gini\"), min.node.size = c(1:3))\n",
    "model7ad = train(target~., ad, method = \"ranger\", trControl = trainControl(method = \"cv\", number = 7, verboseIter = TRUE), tuneGrid = Grid7ad)\n",
    "model7ad"
   ]
  },
  {
   "cell_type": "markdown",
   "metadata": {},
   "source": [
    "## Question 3"
   ]
  },
  {
   "cell_type": "code",
   "execution_count": null,
   "metadata": {},
   "outputs": [],
   "source": [
    "Grid10ad = expand.grid(mtry = 2, splitrule = c(\"gini\"), min.node.size = c(1:3))\n",
    "model10ad = train(target~., ad, method = \"ranger\", trControl = trainControl(method = \"cv\", number = 10, verboseIter = TRUE), tuneGrid = Grid10ad)\n",
    "plot(model10ad)\n",
    "model10ad"
   ]
  },
  {
   "cell_type": "markdown",
   "metadata": {},
   "source": [
    "## Question 4"
   ]
  },
  {
   "cell_type": "code",
   "execution_count": null,
   "metadata": {},
   "outputs": [],
   "source": [
    "#mtry = 2, splitrule = \"gini\", min.mode.size = 1 to 3"
   ]
  },
  {
   "cell_type": "markdown",
   "metadata": {},
   "source": [
    "## Question 5"
   ]
  },
  {
   "cell_type": "code",
   "execution_count": null,
   "metadata": {},
   "outputs": [],
   "source": [
    "plot(model7ad)"
   ]
  },
  {
   "cell_type": "markdown",
   "metadata": {},
   "source": [
    "## Question 6"
   ]
  },
  {
   "cell_type": "code",
   "execution_count": null,
   "metadata": {},
   "outputs": [],
   "source": [
    "#Gridmaxad = expand.grid(mtry = c(1:(ncol(ad)-1)), splitrule = c(\"gini\", \"extratrees\"), min.node.size = c(1:20))\n",
    "#modelmaxad = train(target~., ad, method = \"ranger\", trControl = trainControl(method = \"cv\", number = 7, verboseIter = TRUE), tuneGrid = Gridmaxad)\n",
    "#Takes a very long time to run."
   ]
  },
  {
   "cell_type": "markdown",
   "metadata": {},
   "source": [
    "## Question 7"
   ]
  },
  {
   "cell_type": "code",
   "execution_count": null,
   "metadata": {},
   "outputs": [],
   "source": [
    "#modelmaxad\n",
    "#plot(modelmaxad)"
   ]
  },
  {
   "cell_type": "markdown",
   "metadata": {},
   "source": [
    "## Question 8"
   ]
  },
  {
   "cell_type": "code",
   "execution_count": null,
   "metadata": {},
   "outputs": [],
   "source": [
    "Gridglm = expand.grid(alpha = 0:1, lambda = seq(0.0001, 0.1, length = 10))\n",
    "Control = trainControl(method = \"cv\", number = 7)\n",
    "glmdefa = train(target~., ad, method = \"glmnet\")\n",
    "glmtuneda = train(target~., ad, method =\"glmnet\",tuneGrid = Gridglm, trControl = Control)\n",
    "max(glmtuneda$results$Accuracy) > max(glmdefa$results$Accuracy)\n",
    "max(glmtuneda$results$Accuracy)\n",
    "max(glmdefa$results$Accuracy)"
   ]
  },
  {
   "cell_type": "code",
   "execution_count": null,
   "metadata": {},
   "outputs": [],
   "source": []
  }
 ],
 "metadata": {
  "kernelspec": {
   "display_name": "R",
   "language": "R",
   "name": "ir"
  },
  "language_info": {
   "codemirror_mode": "r",
   "file_extension": ".r",
   "mimetype": "text/x-r-source",
   "name": "R",
   "pygments_lexer": "r",
   "version": "3.5.1"
  }
 },
 "nbformat": 4,
 "nbformat_minor": 2
}
