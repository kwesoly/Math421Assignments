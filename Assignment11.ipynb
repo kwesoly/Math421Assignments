{
 "cells": [
  {
   "cell_type": "markdown",
   "metadata": {},
   "source": [
    "## Question 1"
   ]
  },
  {
   "cell_type": "code",
   "execution_count": 2,
   "metadata": {},
   "outputs": [
    {
     "name": "stderr",
     "output_type": "stream",
     "text": [
      "Rattle: A free graphical interface for data science with R.\n",
      "Version 5.2.0 Copyright (c) 2006-2018 Togaware Pty Ltd.\n",
      "Type 'rattle()' to shake, rattle, and roll your data.\n",
      "Loading required package: lattice\n",
      "Loading required package: ggplot2\n",
      "\n",
      "Attaching package: 'ranger'\n",
      "\n",
      "The following object is masked from 'package:rattle':\n",
      "\n",
      "    importance\n",
      "\n"
     ]
    }
   ],
   "source": [
    "adult = read.csv(\"C:/Users/student/Documents/Adult.csv\", header=TRUE, na.strings = c(\" ?\", \"NA\", \".\"))\n",
    "\n",
    "\n",
    "\n",
    "names(adult) = c(\"Age\", \"WorkingClass\", \"FinalWeight\", \"Education\", \"Ed\", \"MaritalStatus\", \"Occupation\", \"Relationship\", \"Race\", \"Sex\", \"Gains\", \"Losses\", \"AvgHrsWeek\", \"Country\", \"target\")\n",
    "library(readr)\n",
    "library(rpart)\n",
    "library(rattle)\n",
    "library(caret)\n",
    "library(ranger)\n",
    "library(e1071)"
   ]
  },
  {
   "cell_type": "markdown",
   "metadata": {},
   "source": [
    "## Question 2 & 3"
   ]
  },
  {
   "cell_type": "code",
   "execution_count": 3,
   "metadata": {},
   "outputs": [],
   "source": [
    "for(i in 1:ncol(adult)) \n",
    "    {\n",
    "    adult[adult ==\" ?\"]= NA  \n",
    "    missval <- sum(is.na(adult[i]))\n",
    "    if(missval > 0)\n",
    "      {\n",
    "      if(is.numeric(adult[[i]]) == FALSE) \n",
    "        {\n",
    "        levels=unique(adult[,i])\n",
    "        adult[,i][is.na(adult[,i])]=levels[which.max(tabulate(match(adult[,i], x = levels)))]\n",
    "      }\n",
    "      else\n",
    "      {\n",
    "        adult <- preProcess(adult, method='medianImpute')\n",
    "      }\n",
    "    }\n",
    "}"
   ]
  },
  {
   "cell_type": "markdown",
   "metadata": {},
   "source": [
    "## Question 4"
   ]
  },
  {
   "cell_type": "code",
   "execution_count": 4,
   "metadata": {},
   "outputs": [],
   "source": [
    "levels(adult$Country) = c(\"A\",\"A\", \"N\", \"A\", \"S\", \"I\", \"I\", \"S\", \"S\", \"E\", \"E\", \"E\",\"E\", \"S\", \"I\", \"E\", \"S\", \"A\", \"E\", \"A\", \"A\", \"A\", \"E\", \"E\", \"I\", \"A\", \"A\", \"N\", \"S\", \"I\", \"S\", \"A\", \"E\", \"E\", \"I\", \"E\", \"I\", \"A\", \"A\", \"I\", \"N\", \"A\", \"E\")\n",
    "levels(adult$Education) = c(\"HS\", \"HS\", \"HS\", \"ES\", \"ES\", \"ES\", \"HS\", \"A\", \"A\", \"U\", \"G\", \"ES\", \"HS\", \"G\", \"ES\", \"U\", \"A\")\n",
    "levels(adult$Occupation) = c(\"A\", \"A\", \"A\", \"A\", \"B\", \"B\", \"B\", \"C\", \"C\", \"C\", \"D\", \"D\", \"D\", \"E\", \"E\", \"E\")"
   ]
  },
  {
   "cell_type": "markdown",
   "metadata": {},
   "source": [
    "## Question 5 & 6"
   ]
  },
  {
   "cell_type": "code",
   "execution_count": 5,
   "metadata": {},
   "outputs": [],
   "source": [
    "dummies_adult <- dummyVars(target ~ ., data=adult)\n",
    "adultcs <- preProcess(adult, method= c(\"center\", \"scale\"))"
   ]
  },
  {
   "cell_type": "markdown",
   "metadata": {},
   "source": [
    "## Question 7"
   ]
  },
  {
   "cell_type": "code",
   "execution_count": 6,
   "metadata": {},
   "outputs": [],
   "source": [
    "set.seed(2018)\n",
    "splitIndex <- createDataPartition(adult$target, p = .70, list = FALSE, times = 1)\n",
    "train <- adult[ splitIndex,]\n",
    "test <- adult[-splitIndex,]\n",
    "#mytree <- rpart(target ~ ., data = train, method = \"class\")\n",
    "#fancyRpartPlot(mytree)\n",
    "#pred <- predict(mytree,test, type = \"class\")\n",
    "#cm=confusionMatrix(pred,test$target, positive = \" >50K\")\n",
    "#cm$overall[\"Accuracy\"]\n",
    "#cm$byClass[\"Balanced Accuracy\"]"
   ]
  },
  {
   "cell_type": "markdown",
   "metadata": {},
   "source": [
    "## Question 8"
   ]
  },
  {
   "cell_type": "code",
   "execution_count": 7,
   "metadata": {},
   "outputs": [
    {
     "data": {
      "text/html": [
       "<strong>Accuracy:</strong> 0.863738738738739"
      ],
      "text/latex": [
       "\\textbf{Accuracy:} 0.863738738738739"
      ],
      "text/markdown": [
       "**Accuracy:** 0.863738738738739"
      ],
      "text/plain": [
       " Accuracy \n",
       "0.8637387 "
      ]
     },
     "metadata": {},
     "output_type": "display_data"
    },
    {
     "data": {
      "text/html": [
       "&lt;NA&gt;"
      ],
      "text/latex": [
       "<NA>"
      ],
      "text/markdown": [
       "&lt;NA&gt;"
      ],
      "text/plain": [
       "[1] NA"
      ]
     },
     "metadata": {},
     "output_type": "display_data"
    }
   ],
   "source": [
    "model = ranger(target ~., data = train)\n",
    "pred3  = predict(model, data = test)$predictions\n",
    "levels(test$target) = c(\"0\", \"1\", \"NA\")\n",
    "levels(pred3) = c(\"0\", \"1\", \"NA\")\n",
    "cm3=confusionMatrix(pred3, test$target, positive=\"1\")\n",
    "cm3$overall[\"Accuracy\"]\n",
    "cm3$byClass[\"Balanced Accuracy\"]"
   ]
  },
  {
   "cell_type": "markdown",
   "metadata": {},
   "source": [
    "## Question 9"
   ]
  },
  {
   "cell_type": "code",
   "execution_count": 8,
   "metadata": {},
   "outputs": [],
   "source": [
    "for(i in 1:ncol(adult)) \n",
    "    {\n",
    "    adult[adult ==\" ?\"]= NA  \n",
    "    missval <- sum(is.na(adult[i]))\n",
    "    if(missval > 0)\n",
    "      {\n",
    "      if(is.numeric(adult[[i]]) == FALSE) \n",
    "        {\n",
    "        levels=unique(adult[,i])\n",
    "        adult[,i][is.na(adult[,i])]=levels[which.max(tabulate(match(adult[,i], x = levels)))]\n",
    "      }\n",
    "      else\n",
    "      {\n",
    "        adult[[i]][is.na(adult[[i]])] <- mean(adult[[i]], na.rm = TRUE)\n",
    "      }\n",
    "    }\n",
    "}\n",
    "\n",
    "set.seed(2018)\n",
    "#splitIndex9 <- createDataPartition(adult12$target, p = .70, list = FALSE, times = 1)\n",
    "#train9 <- adult12[ splitIndex9,]\n",
    "#test9 <- adult12[-splitIndex9,]\n",
    "#mytree9 <- rpart(target ~ ., data = train9, method = \"class\")\n",
    "#fancyRpartPlot(mytree9)\n",
    "#pred9 <- predict(mytree9,test9, type = \"class\")\n",
    "#cm9=confusionMatrix(pred9,test9$target, positive = \" >50K\")\n",
    "#cm9$overall[\"Accuracy\"]\n",
    "#cm9$byClass[\"Balanced Accuracy\"]\n",
    "#model9 = ranger(target ~., data = train9)\n",
    "#pred39  = predict(model9, data = test9)$predictions\n",
    "#levels(test9$target) = c(\"0\", \"1\")\n",
    "#levels(pred39) = c(\"0\", \"1\")\n",
    "#cm39=confusionMatrix(pred39, test9$target, positive=\"1\")\n",
    "#cm39$overall[\"Accuracy\"]\n",
    "#cm39$byClass[\"Balanced Accuracy\"]"
   ]
  },
  {
   "cell_type": "markdown",
   "metadata": {},
   "source": [
    "## Question 10"
   ]
  },
  {
   "cell_type": "code",
   "execution_count": 9,
   "metadata": {},
   "outputs": [],
   "source": [
    "for(i in 1:ncol(adult)) \n",
    "    {\n",
    "    adult[adult ==\" ?\"]= NA  \n",
    "    missval <- sum(is.na(adult[i]))\n",
    "    if(missval > 0)\n",
    "      {\n",
    "      if(is.numeric(adult[[i]]) == FALSE) \n",
    "        {\n",
    "        levels=unique(adult[,i])\n",
    "        adult[,i][is.na(adult[,i])]=levels[which.max(tabulate(match(adult[,i], x = levels)))]\n",
    "      }\n",
    "      else\n",
    "      {\n",
    "        adult <- preProcess(adult, method='knnImpute')\n",
    "      }\n",
    "    }\n",
    "}\n",
    "\n",
    "set.seed(2018)\n",
    "#splitIndex9 <- createDataPartition(adult12$target, p = .70, list = FALSE, times = 1)\n",
    "#train9 <- adult12[ splitIndex9,]\n",
    "#test9 <- adult12[-splitIndex9,]\n",
    "#mytree9 <- rpart(target ~ ., data = train9, method = \"class\")\n",
    "#fancyRpartPlot(mytree9)\n",
    "#pred9 <- predict(mytree9,test9, type = \"class\")\n",
    "#cm9=confusionMatrix(pred9,test9$target, positive = \" >50K\")\n",
    "#cm9$overall[\"Accuracy\"]\n",
    "#cm9$byClass[\"Balanced Accuracy\"]\n",
    "#model9 = ranger(target ~., data = train9)\n",
    "#pred39  = predict(model9, data = test9)$predictions\n",
    "#levels(test9$target) = c(\"0\", \"1\")\n",
    "#levels(pred39) = c(\"0\", \"1\")\n",
    "#cm39=confusionMatrix(pred39, test9$target, positive=\"1\")\n",
    "#cm39$overall[\"Accuracy\"]\n",
    "#cm39$byClass[\"Balanced Accuracy\"]"
   ]
  },
  {
   "cell_type": "markdown",
   "metadata": {},
   "source": [
    "## Question 11"
   ]
  },
  {
   "cell_type": "code",
   "execution_count": 10,
   "metadata": {},
   "outputs": [],
   "source": [
    "for(i in 1:ncol(adult)) \n",
    "    {\n",
    "    adult[adult ==\" ?\"]= NA  \n",
    "    missval <- sum(is.na(adult[i]))\n",
    "    if(missval > 0)\n",
    "      {\n",
    "      if(is.numeric(adult[[i]]) == FALSE) \n",
    "        {\n",
    "        levels=unique(adult[,i])\n",
    "        adult[,i][is.na(adult[,i])]=levels[which.max(tabulate(match(adult[,i], x = levels)))]\n",
    "      }\n",
    "      else\n",
    "      {\n",
    "        adult <- preProcess(adult, method='medianImpute')\n",
    "      }\n",
    "    }}\n",
    "levels(adult$Country) = c(\"A\",\"A\", \"N\", \"A\", \"S\", \"I\", \"I\", \"S\", \"S\", \"E\", \"E\", \"E\",\"E\", \"S\", \"I\", \"E\", \"S\", \"A\", \"E\", \"A\", \"A\", \"A\", \"E\", \"E\", \"I\", \"A\", \"A\", \"N\", \"S\", \"I\", \"S\", \"A\", \"E\", \"E\", \"I\", \"E\", \"I\", \"A\", \"A\", \"I\", \"N\", \"A\", \"E\")\n",
    "\n",
    "levels(adult$Education) = c(\"HS\", \"HS\", \"HS\", \"ES\", \"ES\", \"ES\", \"HS\", \"A\", \"A\", \"U\", \"G\", \"ES\", \"HS\", \"G\", \"ES\", \"U\", \"A\")\n",
    "levels(adult$Occupation) = c(\"A\", \"A\", \"A\", \"A\", \"B\", \"B\", \"B\", \"C\", \"C\", \"C\", \"D\", \"D\", \"D\", \"E\", \"E\", \"E\")\n",
    "set.seed(2018)\n",
    "#splitIndex9 <- createDataPartition(adult12$target, p = .70, list = FALSE, times = 1)\n",
    "#train9 <- adult12[ splitIndex9,]\n",
    "#test9 <- adult12[-splitIndex9,]\n",
    "#mytree9 <- rpart(target ~ ., data = train9, method = \"class\")\n",
    "#fancyRpartPlot(mytree9)\n",
    "#pred9 <- predict(mytree9,test9, type = \"class\")\n",
    "#cm9=confusionMatrix(pred9,test9$target, positive = \" >50K\")\n",
    "#cm9$overall[\"Accuracy\"]\n",
    "#cm9$byClass[\"Balanced Accuracy\"]\n",
    "#model9 = ranger(target ~., data = train9)\n",
    "#pred39  = predict(model9, data = test9)$predictions\n",
    "#levels(test9$target) = c(\"0\", \"1\")\n",
    "#levels(pred39) = c(\"0\", \"1\")\n",
    "#cm39=confusionMatrix(pred39, test9$target, positive=\"1\")\n",
    "#cm39$overall[\"Accuracy\"]\n",
    "#cm39$byClass[\"Balanced Accuracy\"]"
   ]
  },
  {
   "cell_type": "markdown",
   "metadata": {},
   "source": [
    "## Question 12"
   ]
  },
  {
   "cell_type": "code",
   "execution_count": 11,
   "metadata": {},
   "outputs": [],
   "source": [
    "for(i in 1:ncol(adult)) \n",
    "    {\n",
    "    adult[adult ==\" ?\"]= NA  \n",
    "    missval <- sum(is.na(adult[i]))\n",
    "    if(missval > 0)\n",
    "      {\n",
    "      if(is.numeric(adult[[i]]) == FALSE) \n",
    "        {\n",
    "        levels=unique(adult[,i])\n",
    "        adult[,i][is.na(adult[,i])]=levels[which.max(tabulate(match(adult[,i], x = levels)))]\n",
    "      }\n",
    "      else\n",
    "      {\n",
    "        adult <- preProcess(adult, method='medianImpute')\n",
    "      }\n",
    "    }\n",
    "}\n",
    "\n",
    "for(i in 1:ncol(adult))\n",
    "{\n",
    "  if(is.numeric(adult[[i]]) == TRUE)\n",
    "  {\n",
    "    for(j in 1:nrow(adult))\n",
    "    {\n",
    "      adult[j,i] = (adult[j,i])**2\n",
    "    }\n",
    "  }\n",
    "}\n",
    "adultcs <- preProcess(adult, method= c(\"center\", \"scale\"))\n",
    "set.seed(2018)\n",
    "#splitIndex9 <- createDataPartition(adult12$target, p = .70, list = FALSE, times = 1)\n",
    "#train9 <- adult12[ splitIndex9,]\n",
    "#test9 <- adult12[-splitIndex9,]\n",
    "#mytree9 <- rpart(target ~ ., data = train9, method = \"class\")\n",
    "#fancyRpartPlot(mytree9)\n",
    "#pred9 <- predict(mytree9,test9, type = \"class\")\n",
    "#cm9=confusionMatrix(pred9,test9$target, positive = \" >50K\")\n",
    "#cm9$overall[\"Accuracy\"]\n",
    "#cm9$byClass[\"Balanced Accuracy\"]\n",
    "#model9 = ranger(target ~., data = train9)\n",
    "#pred39  = predict(model9, data = test9)$predictions\n",
    "#levels(test9$target) = c(\"0\", \"1\")\n",
    "#levels(pred39) = c(\"0\", \"1\")\n",
    "#cm39=confusionMatrix(pred39, test9$target, positive=\"1\")\n",
    "#cm39$overall[\"Accuracy\"]\n",
    "#cm39$byClass[\"Balanced Accuracy\"]"
   ]
  },
  {
   "cell_type": "markdown",
   "metadata": {},
   "source": [
    "## Question 13"
   ]
  },
  {
   "cell_type": "code",
   "execution_count": 12,
   "metadata": {},
   "outputs": [],
   "source": [
    "for(i in 1:ncol(adult)) \n",
    "    {\n",
    "    adult[adult ==\" ?\"]= NA  \n",
    "    missval <- sum(is.na(adult[i]))\n",
    "    if(missval > 0)\n",
    "      {\n",
    "      if(is.numeric(adult[[i]]) == FALSE) \n",
    "        {\n",
    "        levels=unique(adult[,i])\n",
    "        adult[,i][is.na(adult[,i])]=levels[which.max(tabulate(match(adult[,i], x = levels)))]\n",
    "      }\n",
    "      else\n",
    "      {\n",
    "        adult <- preProcess(adult, method='medianImpute')\n",
    "      }\n",
    "    }\n",
    "}\n",
    "set.seed(2018)\n",
    "#splitIndex9 <- createDataPartition(adult12$target, p = .70, list = FALSE, times = 1)\n",
    "#train9 <- adult12[ splitIndex9,]\n",
    "#test9 <- adult12[-splitIndex9,]\n",
    "#mytree9 <- rpart(target ~ ., data = train9, method = \"class\")\n",
    "#fancyRpartPlot(mytree9)\n",
    "#pred9 <- predict(mytree9,test9, type = \"class\")\n",
    "#cm9=confusionMatrix(pred9,test9$target, positive = \" >50K\")\n",
    "#cm9$overall[\"Accuracy\"]\n",
    "#cm9$byClass[\"Balanced Accuracy\"]\n",
    "#model9 = ranger(target ~., data = train9)\n",
    "#pred39  = predict(model9, data = test9)$predictions\n",
    "#levels(test9$target) = c(\"0\", \"1\")\n",
    "#levels(pred39) = c(\"0\", \"1\")\n",
    "#cm39=confusionMatrix(pred39, test9$target, positive=\"1\")\n",
    "#cm39$overall[\"Accuracy\"]\n",
    "#cm39$byClass[\"Balanced Accuracy\"]"
   ]
  }
 ],
 "metadata": {
  "kernelspec": {
   "display_name": "R",
   "language": "R",
   "name": "ir"
  },
  "language_info": {
   "codemirror_mode": "r",
   "file_extension": ".r",
   "mimetype": "text/x-r-source",
   "name": "R",
   "pygments_lexer": "r",
   "version": "3.5.1"
  }
 },
 "nbformat": 4,
 "nbformat_minor": 2
}
