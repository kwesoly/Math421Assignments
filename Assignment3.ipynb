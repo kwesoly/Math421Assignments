{
 "cells": [
  {
   "cell_type": "markdown",
   "metadata": {},
   "source": [
    "# R Markdown"
   ]
  },
  {
   "cell_type": "code",
   "execution_count": 1,
   "metadata": {},
   "outputs": [],
   "source": [
    "knitr::opts_chunk$set(echo = TRUE)\n",
    "library(readxl)\n",
    "train <- read_excel(\"C:/Users/student/Desktop/train.xls\")\n",
    "train$Survived = factor(train$Survived)\n",
    "train$Pclass = factor(train$Pclass)\n",
    "library(ggplot2)"
   ]
  },
  {
   "cell_type": "markdown",
   "metadata": {},
   "source": [
    "## 1 - Mising Values"
   ]
  },
  {
   "cell_type": "code",
   "execution_count": 2,
   "metadata": {},
   "outputs": [
    {
     "data": {
      "text/html": [
       "866"
      ],
      "text/latex": [
       "866"
      ],
      "text/markdown": [
       "866"
      ],
      "text/plain": [
       "[1] 866"
      ]
     },
     "metadata": {},
     "output_type": "display_data"
    }
   ],
   "source": [
    "sum(is.na(train))"
   ]
  },
  {
   "cell_type": "markdown",
   "metadata": {},
   "source": [
    "## 2 - Replace Missing values by average for numeric"
   ]
  },
  {
   "cell_type": "code",
   "execution_count": 3,
   "metadata": {},
   "outputs": [
    {
     "name": "stdout",
     "output_type": "stream",
     "text": [
      "Classes 'tbl_df', 'tbl' and 'data.frame':\t891 obs. of  12 variables:\n",
      " $ PassengerId: num  1 2 3 4 5 6 7 8 9 10 ...\n",
      " $ Survived   : Factor w/ 2 levels \"0\",\"1\": 1 2 2 2 1 1 1 1 2 2 ...\n",
      " $ Pclass     : Factor w/ 3 levels \"1\",\"2\",\"3\": 3 1 3 1 3 3 1 3 3 2 ...\n",
      " $ Name       : chr  \"Braund, Mr. Owen Harris\" \"Cumings, Mrs. John Bradley (Florence Briggs Thayer)\" \"Heikkinen, Miss. Laina\" \"Futrelle, Mrs. Jacques Heath (Lily May Peel)\" ...\n",
      " $ Sex        : chr  \"male\" \"female\" \"female\" \"female\" ...\n",
      " $ Age        : num  22 38 26 35 35 NA 54 2 27 14 ...\n",
      " $ SibSp      : num  1 1 0 1 0 0 0 3 0 1 ...\n",
      " $ Parch      : num  0 0 0 0 0 0 0 1 2 0 ...\n",
      " $ Ticket     : chr  \"A/5 21171\" \"PC 17599\" \"STON/O2. 3101282\" \"113803\" ...\n",
      " $ Fare       : num  7.25 71.28 7.92 53.1 8.05 ...\n",
      " $ Cabin      : chr  NA \"C85\" NA \"C123\" ...\n",
      " $ Embarked   : chr  \"S\" \"C\" \"S\" \"S\" ...\n"
     ]
    },
    {
     "data": {
      "text/html": [
       "0"
      ],
      "text/latex": [
       "0"
      ],
      "text/markdown": [
       "0"
      ],
      "text/plain": [
       "[1] 0"
      ]
     },
     "metadata": {},
     "output_type": "display_data"
    },
    {
     "data": {
      "text/html": [
       "177"
      ],
      "text/latex": [
       "177"
      ],
      "text/markdown": [
       "177"
      ],
      "text/plain": [
       "[1] 177"
      ]
     },
     "metadata": {},
     "output_type": "display_data"
    },
    {
     "data": {
      "text/html": [
       "0"
      ],
      "text/latex": [
       "0"
      ],
      "text/markdown": [
       "0"
      ],
      "text/plain": [
       "[1] 0"
      ]
     },
     "metadata": {},
     "output_type": "display_data"
    },
    {
     "data": {
      "text/html": [
       "0"
      ],
      "text/latex": [
       "0"
      ],
      "text/markdown": [
       "0"
      ],
      "text/plain": [
       "[1] 0"
      ]
     },
     "metadata": {},
     "output_type": "display_data"
    },
    {
     "data": {
      "text/html": [
       "0"
      ],
      "text/latex": [
       "0"
      ],
      "text/markdown": [
       "0"
      ],
      "text/plain": [
       "[1] 0"
      ]
     },
     "metadata": {},
     "output_type": "display_data"
    },
    {
     "data": {
      "text/html": [
       "0"
      ],
      "text/latex": [
       "0"
      ],
      "text/markdown": [
       "0"
      ],
      "text/plain": [
       "[1] 0"
      ]
     },
     "metadata": {},
     "output_type": "display_data"
    }
   ],
   "source": [
    "str(train)\n",
    "\n",
    "sum(is.na(train$PassengerId))\n",
    "sum(is.na(train$Age))\n",
    "sum(is.na(train$SibSp))\n",
    "sum(is.na(train$Parch))\n",
    "sum(is.na(train$Fare))\n",
    "\n",
    "train$Age[is.na(train$Age)] = mean(train$Age, na.rm = TRUE)\n",
    "sum(is.na(train$Age))"
   ]
  },
  {
   "cell_type": "markdown",
   "metadata": {},
   "source": [
    "## 3 - Remove rows with missing categorical values"
   ]
  },
  {
   "cell_type": "code",
   "execution_count": 4,
   "metadata": {},
   "outputs": [
    {
     "data": {
      "text/html": [
       "0"
      ],
      "text/latex": [
       "0"
      ],
      "text/markdown": [
       "0"
      ],
      "text/plain": [
       "[1] 0"
      ]
     },
     "metadata": {},
     "output_type": "display_data"
    },
    {
     "data": {
      "text/html": [
       "0"
      ],
      "text/latex": [
       "0"
      ],
      "text/markdown": [
       "0"
      ],
      "text/plain": [
       "[1] 0"
      ]
     },
     "metadata": {},
     "output_type": "display_data"
    },
    {
     "data": {
      "text/html": [
       "0"
      ],
      "text/latex": [
       "0"
      ],
      "text/markdown": [
       "0"
      ],
      "text/plain": [
       "[1] 0"
      ]
     },
     "metadata": {},
     "output_type": "display_data"
    },
    {
     "data": {
      "text/html": [
       "0"
      ],
      "text/latex": [
       "0"
      ],
      "text/markdown": [
       "0"
      ],
      "text/plain": [
       "[1] 0"
      ]
     },
     "metadata": {},
     "output_type": "display_data"
    },
    {
     "data": {
      "text/html": [
       "0"
      ],
      "text/latex": [
       "0"
      ],
      "text/markdown": [
       "0"
      ],
      "text/plain": [
       "[1] 0"
      ]
     },
     "metadata": {},
     "output_type": "display_data"
    },
    {
     "data": {
      "text/html": [
       "687"
      ],
      "text/latex": [
       "687"
      ],
      "text/markdown": [
       "687"
      ],
      "text/plain": [
       "[1] 687"
      ]
     },
     "metadata": {},
     "output_type": "display_data"
    },
    {
     "data": {
      "text/html": [
       "2"
      ],
      "text/latex": [
       "2"
      ],
      "text/markdown": [
       "2"
      ],
      "text/plain": [
       "[1] 2"
      ]
     },
     "metadata": {},
     "output_type": "display_data"
    },
    {
     "data": {
      "text/html": [
       "&lt;NA&gt;"
      ],
      "text/latex": [
       "<NA>"
      ],
      "text/markdown": [
       "&lt;NA&gt;"
      ],
      "text/plain": [
       "[1] NA"
      ]
     },
     "metadata": {},
     "output_type": "display_data"
    },
    {
     "data": {
      "text/html": [
       "&lt;NA&gt;"
      ],
      "text/latex": [
       "<NA>"
      ],
      "text/markdown": [
       "&lt;NA&gt;"
      ],
      "text/plain": [
       "[1] NA"
      ]
     },
     "metadata": {},
     "output_type": "display_data"
    },
    {
     "name": "stdout",
     "output_type": "stream",
     "text": [
      "Classes 'tbl_df', 'tbl' and 'data.frame':\t891 obs. of  12 variables:\n",
      " $ PassengerId: num  NA 2 NA 4 NA NA 7 NA NA NA ...\n",
      " $ Survived   : Factor w/ 2 levels \"0\",\"1\": NA 2 NA 2 NA NA 1 NA NA NA ...\n",
      " $ Pclass     : Factor w/ 3 levels \"1\",\"2\",\"3\": NA 1 NA 1 NA NA 1 NA NA NA ...\n",
      " $ Name       : chr  NA \"Cumings, Mrs. John Bradley (Florence Briggs Thayer)\" NA \"Futrelle, Mrs. Jacques Heath (Lily May Peel)\" ...\n",
      " $ Sex        : chr  NA \"female\" NA \"female\" ...\n",
      " $ Age        : num  NA 38 NA 35 NA NA 54 NA NA NA ...\n",
      " $ SibSp      : num  NA 1 NA 1 NA NA 0 NA NA NA ...\n",
      " $ Parch      : num  NA 0 NA 0 NA NA 0 NA NA NA ...\n",
      " $ Ticket     : chr  NA \"PC 17599\" NA \"113803\" ...\n",
      " $ Fare       : num  NA 71.3 NA 53.1 NA ...\n",
      " $ Cabin      : chr  NA \"C85\" NA \"C123\" ...\n",
      " $ Embarked   : chr  NA \"C\" NA \"S\" ...\n"
     ]
    }
   ],
   "source": [
    "sum(is.na(train$Survived))\n",
    "sum(is.na(train$Pclass))\n",
    "sum(is.na(train$Name))\n",
    "sum(is.na(train$Sex))\n",
    "sum(is.na(train$Ticket))\n",
    "sum(is.na(train$Cabin))\n",
    "sum(is.na(train$Embarked))\n",
    "\n",
    "sum((train$Cabin == \"\")|(train$Cabin == \" \"))\n",
    "\n",
    "sum(train$Embarked != 'S' & train$Embarked != 'C' & train$Embarked != 'Q')\n",
    "\n",
    "train1 = train[!train$Cabin ==\"\" & !train$Embarked == \"\", ]\n",
    "str(train1)"
   ]
  },
  {
   "cell_type": "markdown",
   "metadata": {},
   "source": [
    "## 4 - Remove column \"Name\", PassengerID and unnecessary columns"
   ]
  },
  {
   "cell_type": "code",
   "execution_count": 5,
   "metadata": {},
   "outputs": [],
   "source": [
    "train[,1] = NULL\n",
    "train[,\"Embarked\"] = NULL\n",
    "train[,\"Ticket\"] = NULL\n",
    "train[,\"Cabin\"] = NULL"
   ]
  },
  {
   "cell_type": "markdown",
   "metadata": {},
   "source": [
    "## 5-10"
   ]
  },
  {
   "cell_type": "code",
   "execution_count": 7,
   "metadata": {},
   "outputs": [
    {
     "data": {
      "text/html": [
       "29.6991176470588"
      ],
      "text/latex": [
       "29.6991176470588"
      ],
      "text/markdown": [
       "29.6991176470588"
      ],
      "text/plain": [
       "[1] 29.69912"
      ]
     },
     "metadata": {},
     "output_type": "display_data"
    },
    {
     "data": {
      "text/html": [
       "28.2167300487074"
      ],
      "text/latex": [
       "28.2167300487074"
      ],
      "text/markdown": [
       "28.2167300487074"
      ],
      "text/plain": [
       "[1] 28.21673"
      ]
     },
     "metadata": {},
     "output_type": "display_data"
    },
    {
     "data": {
      "text/html": [
       "60.2875"
      ],
      "text/latex": [
       "60.2875"
      ],
      "text/markdown": [
       "60.2875"
      ],
      "text/plain": [
       "[1] 60.2875"
      ]
     },
     "metadata": {},
     "output_type": "display_data"
    },
    {
     "data": {
      "text/html": [
       "14.45625"
      ],
      "text/latex": [
       "14.45625"
      ],
      "text/markdown": [
       "14.45625"
      ],
      "text/plain": [
       "[1] 14.45625"
      ]
     },
     "metadata": {},
     "output_type": "display_data"
    },
    {
     "data": {
      "text/html": [
       "30"
      ],
      "text/latex": [
       "30"
      ],
      "text/markdown": [
       "30"
      ],
      "text/plain": [
       "[1] 30"
      ]
     },
     "metadata": {},
     "output_type": "display_data"
    },
    {
     "data": {
      "text/html": [
       "47.511"
      ],
      "text/latex": [
       "47.511"
      ],
      "text/markdown": [
       "47.511"
      ],
      "text/plain": [
       "[1] 47.511"
      ]
     },
     "metadata": {},
     "output_type": "display_data"
    }
   ],
   "source": [
    "mean(train$Age, na.rm = TRUE)\n",
    "mean(train[train$Sex == \"female\",]$Age)\n",
    "median(train[train$Pclass == \"1\",]$Fare)\n",
    "median(train[train$Sex == \"female\" & train$Pclass != \"1\",]$Fare)\n",
    "median(train[train$Survived == \"1\" & train$Sex == \"female\" & train$Pclass != \"3\",]$Age)\n",
    "mean(train[train$Sex == \"female\" & train$Survived == \"1\" & train$Age >= \"13\" & train$Age < \"20\",]$Fare)"
   ]
  },
  {
   "cell_type": "markdown",
   "metadata": {},
   "source": [
    "## 11 - Mean fare of female teenagers survived passengers for each class"
   ]
  },
  {
   "cell_type": "code",
   "execution_count": 8,
   "metadata": {},
   "outputs": [
    {
     "data": {
      "text/html": [
       "110.684228571429"
      ],
      "text/latex": [
       "110.684228571429"
      ],
      "text/markdown": [
       "110.684228571429"
      ],
      "text/plain": [
       "[1] 110.6842"
      ]
     },
     "metadata": {},
     "output_type": "display_data"
    },
    {
     "data": {
      "text/html": [
       "20.6745333333333"
      ],
      "text/latex": [
       "20.6745333333333"
      ],
      "text/markdown": [
       "20.6745333333333"
      ],
      "text/plain": [
       "[1] 20.67453"
      ]
     },
     "metadata": {},
     "output_type": "display_data"
    },
    {
     "data": {
      "text/html": [
       "13.2453615384615"
      ],
      "text/latex": [
       "13.2453615384615"
      ],
      "text/markdown": [
       "13.2453615384615"
      ],
      "text/plain": [
       "[1] 13.24536"
      ]
     },
     "metadata": {},
     "output_type": "display_data"
    }
   ],
   "source": [
    "mean(train[train$Sex == \"female\" & train$Pclass == \"1\" & train$Age >= \"13\" & train$Age < \"20\",]$Fare)\n",
    "mean(train[train$Sex == \"female\" & train$Pclass == \"2\" & train$Age >= \"13\" & train$Age < \"20\",]$Fare)\n",
    "mean(train[train$Sex == \"female\" & train$Pclass == \"3\" & train$Age >= \"13\" & train$Age < \"20\",]$Fare)"
   ]
  },
  {
   "cell_type": "markdown",
   "metadata": {},
   "source": [
    "## 12 - Ratio of Survived and not Survived passengers who pay more than avg fare"
   ]
  },
  {
   "cell_type": "code",
   "execution_count": 9,
   "metadata": {},
   "outputs": [
    {
     "data": {
      "text/plain": [
       "\n",
       "        0         1 \n",
       "0.4028436 0.5971564 "
      ]
     },
     "metadata": {},
     "output_type": "display_data"
    }
   ],
   "source": [
    "meanfare = mean(train$Fare)\n",
    "train2 = train[train$Fare>meanfare,]\n",
    "prop.table(table(train2$Survived))"
   ]
  },
  {
   "cell_type": "markdown",
   "metadata": {},
   "source": [
    "## 13 - Add column that standardizes the fare and name is sfare"
   ]
  },
  {
   "cell_type": "code",
   "execution_count": 10,
   "metadata": {},
   "outputs": [],
   "source": [
    "train$sfare = (train$Fare - (mean(train$Fare))/sd(train$Fare))"
   ]
  },
  {
   "cell_type": "markdown",
   "metadata": {},
   "source": [
    "## 14 - Bar Chart"
   ]
  },
  {
   "cell_type": "code",
   "execution_count": 11,
   "metadata": {},
   "outputs": [
    {
     "data": {},
     "metadata": {},
     "output_type": "display_data"
    },
    {
     "data": {
      "image/png": "[encoded data removed]",
      "text/plain": [
       "plot without title"
      ]
     },
     "metadata": {},
     "output_type": "display_data",
     "source": "R display func"
    }
   ],
   "source": [
    "theme_update(plot.title = element_text(hjust = 0.5))\n",
    "\n",
    "ggplot(train[train$Age<mean(train$Age), ] ) + geom_bar(mapping = aes (x= Sex, fill = Survived), position = 'dodge') +ggtitle(\"Passangers younger than average age\")"
   ]
  },
  {
   "cell_type": "markdown",
   "metadata": {},
   "source": [
    "## 15 - Plot the density of age of passengers who survived and pay more than avg fare"
   ]
  },
  {
   "cell_type": "code",
   "execution_count": 12,
   "metadata": {},
   "outputs": [
    {
     "data": {},
     "metadata": {},
     "output_type": "display_data"
    },
    {
     "data": {
      "image/png": "[encoded data removed]",
      "text/plain": [
       "plot without title"
      ]
     },
     "metadata": {},
     "output_type": "display_data",
     "source": "R display func"
    }
   ],
   "source": [
    "ggplot(train[(train$Survived =='1') & (train$Fare > mean(train$Fare)), ]) + geom_density(mapping = aes(x = Age)) + ggtitle(\"Survived and paid more than average fare density\")"
   ]
  },
  {
   "cell_type": "markdown",
   "metadata": {},
   "source": [
    "## 16 - Plot two density curves in one graph"
   ]
  },
  {
   "cell_type": "code",
   "execution_count": 13,
   "metadata": {},
   "outputs": [
    {
     "name": "stderr",
     "output_type": "stream",
     "text": [
      "Warning message:\n",
      "\"Unknown or uninitialised column: 'Embarked'.\"Warning message:\n",
      "\"Unknown or uninitialised column: 'Embarked'.\"Warning message:\n",
      "\"Length of logical index must be 1 or 891, not 0\""
     ]
    },
    {
     "data": {},
     "metadata": {},
     "output_type": "display_data"
    },
    {
     "data": {
      "image/png": "[encoded data removed]",
      "text/plain": [
       "plot without title"
      ]
     },
     "metadata": {},
     "output_type": "display_data",
     "source": "R display func"
    }
   ],
   "source": [
    "ggplot(train[(train$Embarked == \"S\") | (train$Embarked == \"Q\"), ]) + geom_density(mapping = aes(x= Age))"
   ]
  },
  {
   "cell_type": "markdown",
   "metadata": {},
   "source": [
    "## 17 Add categorical variable \"cfare\""
   ]
  },
  {
   "cell_type": "code",
   "execution_count": 14,
   "metadata": {},
   "outputs": [
    {
     "name": "stdout",
     "output_type": "stream",
     "text": [
      "Classes 'tbl_df', 'tbl' and 'data.frame':\t891 obs. of  10 variables:\n",
      " $ Survived: Factor w/ 2 levels \"0\",\"1\": 1 2 2 2 1 1 1 1 2 2 ...\n",
      " $ Pclass  : Factor w/ 3 levels \"1\",\"2\",\"3\": 3 1 3 1 3 3 1 3 3 2 ...\n",
      " $ Name    : chr  \"Braund, Mr. Owen Harris\" \"Cumings, Mrs. John Bradley (Florence Briggs Thayer)\" \"Heikkinen, Miss. Laina\" \"Futrelle, Mrs. Jacques Heath (Lily May Peel)\" ...\n",
      " $ Sex     : chr  \"male\" \"female\" \"female\" \"female\" ...\n",
      " $ Age     : num  22 38 26 35 35 ...\n",
      " $ SibSp   : num  1 1 0 1 0 0 0 3 0 1 ...\n",
      " $ Parch   : num  0 0 0 0 0 0 0 1 2 0 ...\n",
      " $ Fare    : num  7.25 71.28 7.92 53.1 8.05 ...\n",
      " $ sfare   : num  6.6 70.64 7.28 52.45 7.4 ...\n",
      " $ cfare   : chr  \"Cheap\" \"Expensive\" \"Cheap\" \"Expensive\" ...\n"
     ]
    }
   ],
   "source": [
    "train$cfare = ifelse(train$Fare > mean(train$Fare), c(\"Expensive\"), c(\"Cheap\"))\n",
    "str(train)"
   ]
  },
  {
   "cell_type": "markdown",
   "metadata": {},
   "source": [
    "## 18"
   ]
  },
  {
   "cell_type": "code",
   "execution_count": 15,
   "metadata": {},
   "outputs": [
    {
     "name": "stderr",
     "output_type": "stream",
     "text": [
      "Warning message:\n",
      "\"Unknown or uninitialised column: 'cage'.\""
     ]
    },
    {
     "name": "stdout",
     "output_type": "stream",
     "text": [
      "Classes 'tbl_df', 'tbl' and 'data.frame':\t891 obs. of  12 variables:\n",
      " $ PassengerId: num  NA 2 NA 4 NA NA 7 NA NA NA ...\n",
      " $ Survived   : Factor w/ 2 levels \"0\",\"1\": NA 2 NA 2 NA NA 1 NA NA NA ...\n",
      " $ Pclass     : Factor w/ 3 levels \"1\",\"2\",\"3\": NA 1 NA 1 NA NA 1 NA NA NA ...\n",
      " $ Name       : chr  NA \"Cumings, Mrs. John Bradley (Florence Briggs Thayer)\" NA \"Futrelle, Mrs. Jacques Heath (Lily May Peel)\" ...\n",
      " $ Sex        : chr  NA \"female\" NA \"female\" ...\n",
      " $ Age        : num  NA 38 NA 35 NA NA 54 NA NA NA ...\n",
      " $ SibSp      : num  NA 1 NA 1 NA NA 0 NA NA NA ...\n",
      " $ Parch      : num  NA 0 NA 0 NA NA 0 NA NA NA ...\n",
      " $ Ticket     : chr  NA \"PC 17599\" NA \"113803\" ...\n",
      " $ Fare       : num  NA 71.3 NA 53.1 NA ...\n",
      " $ Cabin      : chr  NA \"C85\" NA \"C123\" ...\n",
      " $ Embarked   : chr  NA \"C\" NA \"S\" ...\n"
     ]
    }
   ],
   "source": [
    "attach(train)\n",
    "train$cage[train$Age <= 10] = \"0\"\n",
    "train$cage[train$Age > 10 & train$Age <= 20] = \"1\"\n",
    "train$cage[train$Age > 20 & train$Age <= 30] = \"2\"\n",
    "train$cage[train$Age > 30 & train$Age <= 40] = \"3\"\n",
    "train$cage[train$Age > 40 & train$Age <= 50] = \"4\"\n",
    "train$cage[train$Age > 50 & train$Age <= 60] = \"5\"\n",
    "train$cage[train$Age > 60] = \"6\"\n",
    "detach(train)\n",
    "str(train1)"
   ]
  },
  {
   "cell_type": "markdown",
   "metadata": {},
   "source": [
    "## 19 Plot Bar Chart "
   ]
  },
  {
   "cell_type": "code",
   "execution_count": 16,
   "metadata": {},
   "outputs": [
    {
     "data": {},
     "metadata": {},
     "output_type": "display_data"
    },
    {
     "data": {
      "image/png": "[encoded data removed]",
      "text/plain": [
       "plot without title"
      ]
     },
     "metadata": {},
     "output_type": "display_data",
     "source": "R display func"
    }
   ],
   "source": [
    "ggplot(train[train$cfare == \"Expensive\", ]) + geom_bar(mapping = aes(x = cage, fill = Survived), position = 'dodge')"
   ]
  },
  {
   "cell_type": "markdown",
   "metadata": {},
   "source": [
    "## 20 - Split the bar chart in 19 by Pclass"
   ]
  },
  {
   "cell_type": "code",
   "execution_count": 17,
   "metadata": {},
   "outputs": [
    {
     "data": {},
     "metadata": {},
     "output_type": "display_data"
    },
    {
     "data": {
      "image/png": "[encoded data removed]",
      "text/plain": [
       "plot without title"
      ]
     },
     "metadata": {},
     "output_type": "display_data",
     "source": "R display func"
    }
   ],
   "source": [
    "ggplot(train[train$cfare == \"Expensive\", ]) + geom_bar(mapping = aes(x = cage, fill = Survived), position = 'dodge') + \n",
    " facet_wrap(~ Pclass)"
   ]
  },
  {
   "cell_type": "code",
   "execution_count": null,
   "metadata": {},
   "outputs": [],
   "source": []
  }
 ],
 "metadata": {
  "kernelspec": {
   "display_name": "R",
   "language": "R",
   "name": "ir"
  },
  "language_info": {
   "codemirror_mode": "r",
   "file_extension": ".r",
   "mimetype": "text/x-r-source",
   "name": "R",
   "pygments_lexer": "r",
   "version": "3.5.1"
  }
 },
 "nbformat": 4,
 "nbformat_minor": 2
}
